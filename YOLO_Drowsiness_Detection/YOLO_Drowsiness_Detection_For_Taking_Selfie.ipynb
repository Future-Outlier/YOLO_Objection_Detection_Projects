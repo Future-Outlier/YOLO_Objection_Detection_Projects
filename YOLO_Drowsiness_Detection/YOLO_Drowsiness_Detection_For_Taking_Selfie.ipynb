{
 "cells": [
  {
   "cell_type": "code",
   "execution_count": 1,
   "id": "2afe1805",
   "metadata": {},
   "outputs": [],
   "source": [
    "import torch\n",
    "from matplotlib import pyplot as plt\n",
    "import numpy as np\n",
    "import cv2"
   ]
  },
  {
   "cell_type": "code",
   "execution_count": 2,
   "id": "399928b7",
   "metadata": {},
   "outputs": [],
   "source": [
    "import uuid   # Unique identifier\n",
    "import os\n",
    "import time"
   ]
  },
  {
   "cell_type": "code",
   "execution_count": 3,
   "id": "81ac1bc6",
   "metadata": {},
   "outputs": [
    {
     "name": "stdout",
     "output_type": "stream",
     "text": [
      "Defaulting to user installation because normal site-packages is not writeable\n",
      "Requirement already satisfied: pyqt5 in c:\\users\\twisted_fate\\appdata\\roaming\\python\\python39\\site-packages (5.15.6)\n",
      "Requirement already satisfied: lxml in c:\\users\\twisted_fate\\appdata\\roaming\\python\\python39\\site-packages (4.6.4)\n",
      "Requirement already satisfied: PyQt5-Qt5>=5.15.2 in c:\\users\\twisted_fate\\appdata\\roaming\\python\\python39\\site-packages (from pyqt5) (5.15.2)\n",
      "Requirement already satisfied: PyQt5-sip<13,>=12.8 in c:\\users\\twisted_fate\\appdata\\roaming\\python\\python39\\site-packages (from pyqt5) (12.9.0)\n"
     ]
    },
    {
     "name": "stderr",
     "output_type": "stream",
     "text": [
      "WARNING: You are using pip version 21.2.3; however, version 21.3.1 is available.\n",
      "You should consider upgrading via the 'c:\\program files\\python39\\python.exe -m pip install --upgrade pip' command.\n"
     ]
    }
   ],
   "source": [
    "!pip install pyqt5 lxml --upgrade"
   ]
  },
  {
   "cell_type": "code",
   "execution_count": 4,
   "id": "548087f2",
   "metadata": {},
   "outputs": [],
   "source": [
    "!cd labelImg && pyrcc5 -o libs/resources.py resources.qrc\n"
   ]
  },
  {
   "cell_type": "code",
   "execution_count": 5,
   "id": "c1028ad0",
   "metadata": {},
   "outputs": [
    {
     "name": "stderr",
     "output_type": "stream",
     "text": [
      "Traceback (most recent call last):\n",
      "  File \"D:\\Programming\\Computer_Vision\\Yolo\\yolov5\\train.py\", line 23, in <module>\n",
      "    import yaml\n",
      "ModuleNotFoundError: No module named 'yaml'\n"
     ]
    }
   ],
   "source": [
    "!cd yolov5 && python train.py --img 320 --batch 16 --epochs 500 --data dataset.yml --weights yolov5s.pt --workers 2\n"
   ]
  },
  {
   "cell_type": "code",
   "execution_count": null,
   "id": "78be1f07",
   "metadata": {},
   "outputs": [],
   "source": []
  },
  {
   "cell_type": "code",
   "execution_count": 2,
   "id": "05b016e9",
   "metadata": {},
   "outputs": [],
   "source": [
    "!cd D:\\Programming\\Computer_Vision\\Yolo\\yolov5\n",
    "# the key to detect objects\n",
    "# !pip install -r requirements.txt"
   ]
  },
  {
   "cell_type": "code",
   "execution_count": 4,
   "id": "3f0c5c32",
   "metadata": {
    "scrolled": true
   },
   "outputs": [
    {
     "name": "stdout",
     "output_type": "stream",
     "text": [
      "Requirement already satisfied: matplotlib>=3.2.2 in c:\\programdata\\anaconda3\\lib\\site-packages (from -r D:\\Programming\\Computer_Vision\\Yolo\\yolov5\\requirements.txt (line 4)) (3.3.4)\n",
      "Requirement already satisfied: numpy>=1.18.5 in c:\\programdata\\anaconda3\\lib\\site-packages (from -r D:\\Programming\\Computer_Vision\\Yolo\\yolov5\\requirements.txt (line 5)) (1.19.5)\n",
      "Requirement already satisfied: opencv-python>=4.1.2 in c:\\programdata\\anaconda3\\lib\\site-packages (from -r D:\\Programming\\Computer_Vision\\Yolo\\yolov5\\requirements.txt (line 6)) (4.5.3.56)\n",
      "Requirement already satisfied: Pillow>=7.1.2 in c:\\programdata\\anaconda3\\lib\\site-packages (from -r D:\\Programming\\Computer_Vision\\Yolo\\yolov5\\requirements.txt (line 7)) (8.2.0)\n",
      "Requirement already satisfied: PyYAML>=5.3.1 in c:\\programdata\\anaconda3\\lib\\site-packages (from -r D:\\Programming\\Computer_Vision\\Yolo\\yolov5\\requirements.txt (line 8)) (5.4.1)\n",
      "Requirement already satisfied: requests>=2.23.0 in c:\\programdata\\anaconda3\\lib\\site-packages (from -r D:\\Programming\\Computer_Vision\\Yolo\\yolov5\\requirements.txt (line 9)) (2.25.1)\n",
      "Requirement already satisfied: scipy>=1.4.1 in c:\\programdata\\anaconda3\\lib\\site-packages (from -r D:\\Programming\\Computer_Vision\\Yolo\\yolov5\\requirements.txt (line 10)) (1.6.2)\n",
      "Requirement already satisfied: torch>=1.7.0 in c:\\programdata\\anaconda3\\lib\\site-packages (from -r D:\\Programming\\Computer_Vision\\Yolo\\yolov5\\requirements.txt (line 11)) (1.9.0+cu111)\n",
      "Requirement already satisfied: torchvision>=0.8.1 in c:\\programdata\\anaconda3\\lib\\site-packages (from -r D:\\Programming\\Computer_Vision\\Yolo\\yolov5\\requirements.txt (line 12)) (0.10.0+cu111)\n",
      "Requirement already satisfied: tqdm>=4.41.0 in c:\\programdata\\anaconda3\\lib\\site-packages (from -r D:\\Programming\\Computer_Vision\\Yolo\\yolov5\\requirements.txt (line 13)) (4.59.0)\n",
      "Requirement already satisfied: tensorboard>=2.4.1 in c:\\programdata\\anaconda3\\lib\\site-packages (from -r D:\\Programming\\Computer_Vision\\Yolo\\yolov5\\requirements.txt (line 16)) (2.6.0)\n",
      "Requirement already satisfied: pandas>=1.1.4 in c:\\programdata\\anaconda3\\lib\\site-packages (from -r D:\\Programming\\Computer_Vision\\Yolo\\yolov5\\requirements.txt (line 20)) (1.2.4)\n",
      "Requirement already satisfied: seaborn>=0.11.0 in c:\\programdata\\anaconda3\\lib\\site-packages (from -r D:\\Programming\\Computer_Vision\\Yolo\\yolov5\\requirements.txt (line 21)) (0.11.1)\n",
      "Requirement already satisfied: thop in c:\\programdata\\anaconda3\\lib\\site-packages (from -r D:\\Programming\\Computer_Vision\\Yolo\\yolov5\\requirements.txt (line 36)) (0.0.31.post2005241907)\n",
      "Requirement already satisfied: pyparsing!=2.0.4,!=2.1.2,!=2.1.6,>=2.0.3 in c:\\programdata\\anaconda3\\lib\\site-packages (from matplotlib>=3.2.2->-r D:\\Programming\\Computer_Vision\\Yolo\\yolov5\\requirements.txt (line 4)) (2.4.7)\n",
      "Requirement already satisfied: cycler>=0.10 in c:\\programdata\\anaconda3\\lib\\site-packages (from matplotlib>=3.2.2->-r D:\\Programming\\Computer_Vision\\Yolo\\yolov5\\requirements.txt (line 4)) (0.10.0)\n",
      "Requirement already satisfied: python-dateutil>=2.1 in c:\\programdata\\anaconda3\\lib\\site-packages (from matplotlib>=3.2.2->-r D:\\Programming\\Computer_Vision\\Yolo\\yolov5\\requirements.txt (line 4)) (2.8.1)\n",
      "Requirement already satisfied: kiwisolver>=1.0.1 in c:\\programdata\\anaconda3\\lib\\site-packages (from matplotlib>=3.2.2->-r D:\\Programming\\Computer_Vision\\Yolo\\yolov5\\requirements.txt (line 4)) (1.3.1)\n",
      "Requirement already satisfied: pytz>=2017.3 in c:\\programdata\\anaconda3\\lib\\site-packages (from pandas>=1.1.4->-r D:\\Programming\\Computer_Vision\\Yolo\\yolov5\\requirements.txt (line 20)) (2021.1)\n",
      "Requirement already satisfied: certifi>=2017.4.17 in c:\\programdata\\anaconda3\\lib\\site-packages (from requests>=2.23.0->-r D:\\Programming\\Computer_Vision\\Yolo\\yolov5\\requirements.txt (line 9)) (2020.12.5)\n",
      "Requirement already satisfied: chardet<5,>=3.0.2 in c:\\programdata\\anaconda3\\lib\\site-packages (from requests>=2.23.0->-r D:\\Programming\\Computer_Vision\\Yolo\\yolov5\\requirements.txt (line 9)) (4.0.0)\n",
      "Requirement already satisfied: idna<3,>=2.5 in c:\\programdata\\anaconda3\\lib\\site-packages (from requests>=2.23.0->-r D:\\Programming\\Computer_Vision\\Yolo\\yolov5\\requirements.txt (line 9)) (2.10)\n",
      "Requirement already satisfied: urllib3<1.27,>=1.21.1 in c:\\programdata\\anaconda3\\lib\\site-packages (from requests>=2.23.0->-r D:\\Programming\\Computer_Vision\\Yolo\\yolov5\\requirements.txt (line 9)) (1.26.4)\n",
      "Requirement already satisfied: absl-py>=0.4 in c:\\programdata\\anaconda3\\lib\\site-packages (from tensorboard>=2.4.1->-r D:\\Programming\\Computer_Vision\\Yolo\\yolov5\\requirements.txt (line 16)) (0.13.0)\n",
      "Requirement already satisfied: werkzeug>=0.11.15 in c:\\programdata\\anaconda3\\lib\\site-packages (from tensorboard>=2.4.1->-r D:\\Programming\\Computer_Vision\\Yolo\\yolov5\\requirements.txt (line 16)) (1.0.1)\n",
      "Requirement already satisfied: wheel>=0.26 in c:\\programdata\\anaconda3\\lib\\site-packages (from tensorboard>=2.4.1->-r D:\\Programming\\Computer_Vision\\Yolo\\yolov5\\requirements.txt (line 16)) (0.36.2)\n",
      "Requirement already satisfied: google-auth-oauthlib<0.5,>=0.4.1 in c:\\programdata\\anaconda3\\lib\\site-packages (from tensorboard>=2.4.1->-r D:\\Programming\\Computer_Vision\\Yolo\\yolov5\\requirements.txt (line 16)) (0.4.5)\n",
      "Requirement already satisfied: setuptools>=41.0.0 in c:\\programdata\\anaconda3\\lib\\site-packages (from tensorboard>=2.4.1->-r D:\\Programming\\Computer_Vision\\Yolo\\yolov5\\requirements.txt (line 16)) (52.0.0.post20210125)\n",
      "Requirement already satisfied: tensorboard-data-server<0.7.0,>=0.6.0 in c:\\programdata\\anaconda3\\lib\\site-packages (from tensorboard>=2.4.1->-r D:\\Programming\\Computer_Vision\\Yolo\\yolov5\\requirements.txt (line 16)) (0.6.1)\n",
      "Requirement already satisfied: markdown>=2.6.8 in c:\\programdata\\anaconda3\\lib\\site-packages (from tensorboard>=2.4.1->-r D:\\Programming\\Computer_Vision\\Yolo\\yolov5\\requirements.txt (line 16)) (3.3.4)\n",
      "Requirement already satisfied: protobuf>=3.6.0 in c:\\programdata\\anaconda3\\lib\\site-packages (from tensorboard>=2.4.1->-r D:\\Programming\\Computer_Vision\\Yolo\\yolov5\\requirements.txt (line 16)) (3.17.3)\n",
      "Requirement already satisfied: grpcio>=1.24.3 in c:\\programdata\\anaconda3\\lib\\site-packages (from tensorboard>=2.4.1->-r D:\\Programming\\Computer_Vision\\Yolo\\yolov5\\requirements.txt (line 16)) (1.39.0)\n",
      "Requirement already satisfied: tensorboard-plugin-wit>=1.6.0 in c:\\programdata\\anaconda3\\lib\\site-packages (from tensorboard>=2.4.1->-r D:\\Programming\\Computer_Vision\\Yolo\\yolov5\\requirements.txt (line 16)) (1.8.0)\n",
      "Requirement already satisfied: google-auth<2,>=1.6.3 in c:\\programdata\\anaconda3\\lib\\site-packages (from tensorboard>=2.4.1->-r D:\\Programming\\Computer_Vision\\Yolo\\yolov5\\requirements.txt (line 16)) (1.34.0)\n",
      "Requirement already satisfied: typing-extensions in c:\\programdata\\anaconda3\\lib\\site-packages (from torch>=1.7.0->-r D:\\Programming\\Computer_Vision\\Yolo\\yolov5\\requirements.txt (line 11)) (3.7.4.3)\n",
      "Requirement already satisfied: six in c:\\programdata\\anaconda3\\lib\\site-packages (from absl-py>=0.4->tensorboard>=2.4.1->-r D:\\Programming\\Computer_Vision\\Yolo\\yolov5\\requirements.txt (line 16)) (1.15.0)\n",
      "Requirement already satisfied: pyasn1-modules>=0.2.1 in c:\\programdata\\anaconda3\\lib\\site-packages (from google-auth<2,>=1.6.3->tensorboard>=2.4.1->-r D:\\Programming\\Computer_Vision\\Yolo\\yolov5\\requirements.txt (line 16)) (0.2.8)\n",
      "Requirement already satisfied: cachetools<5.0,>=2.0.0 in c:\\programdata\\anaconda3\\lib\\site-packages (from google-auth<2,>=1.6.3->tensorboard>=2.4.1->-r D:\\Programming\\Computer_Vision\\Yolo\\yolov5\\requirements.txt (line 16)) (4.2.2)\n",
      "Requirement already satisfied: rsa<5,>=3.1.4 in c:\\programdata\\anaconda3\\lib\\site-packages (from google-auth<2,>=1.6.3->tensorboard>=2.4.1->-r D:\\Programming\\Computer_Vision\\Yolo\\yolov5\\requirements.txt (line 16)) (4.7.2)\n",
      "Requirement already satisfied: requests-oauthlib>=0.7.0 in c:\\programdata\\anaconda3\\lib\\site-packages (from google-auth-oauthlib<0.5,>=0.4.1->tensorboard>=2.4.1->-r D:\\Programming\\Computer_Vision\\Yolo\\yolov5\\requirements.txt (line 16)) (1.3.0)\n",
      "Requirement already satisfied: pyasn1<0.5.0,>=0.4.6 in c:\\programdata\\anaconda3\\lib\\site-packages (from pyasn1-modules>=0.2.1->google-auth<2,>=1.6.3->tensorboard>=2.4.1->-r D:\\Programming\\Computer_Vision\\Yolo\\yolov5\\requirements.txt (line 16)) (0.4.8)\n",
      "Requirement already satisfied: oauthlib>=3.0.0 in c:\\programdata\\anaconda3\\lib\\site-packages (from requests-oauthlib>=0.7.0->google-auth-oauthlib<0.5,>=0.4.1->tensorboard>=2.4.1->-r D:\\Programming\\Computer_Vision\\Yolo\\yolov5\\requirements.txt (line 16)) (3.1.1)\n"
     ]
    }
   ],
   "source": [
    "!pip install -r D:\\Programming\\Computer_Vision\\Yolo\\yolov5\\requirements.txt"
   ]
  },
  {
   "cell_type": "code",
   "execution_count": 9,
   "id": "68c75c74",
   "metadata": {},
   "outputs": [
    {
     "name": "stderr",
     "output_type": "stream",
     "text": [
      "Using cache found in C:\\Users\\twisted_fate/.cache\\torch\\hub\\ultralytics_yolov5_master\n",
      "YOLOv5  2021-11-2 torch 1.9.0+cu111 CUDA:0 (NVIDIA GeForce GTX 1650, 4096.0MB)\n",
      "\n",
      "Fusing layers... \n",
      "Model Summary: 213 layers, 7225885 parameters, 0 gradients\n",
      "Adding AutoShape... \n"
     ]
    }
   ],
   "source": [
    "model = torch.hub.load('ultralytics/yolov5', 'yolov5s')"
   ]
  },
  {
   "cell_type": "code",
   "execution_count": 10,
   "id": "220cab11",
   "metadata": {},
   "outputs": [
    {
     "data": {
      "text/plain": [
       "AutoShape(\n",
       "  (model): Model(\n",
       "    (model): Sequential(\n",
       "      (0): Conv(\n",
       "        (conv): Conv2d(3, 32, kernel_size=(6, 6), stride=(2, 2), padding=(2, 2))\n",
       "        (act): SiLU(inplace=True)\n",
       "      )\n",
       "      (1): Conv(\n",
       "        (conv): Conv2d(32, 64, kernel_size=(3, 3), stride=(2, 2), padding=(1, 1))\n",
       "        (act): SiLU(inplace=True)\n",
       "      )\n",
       "      (2): C3(\n",
       "        (cv1): Conv(\n",
       "          (conv): Conv2d(64, 32, kernel_size=(1, 1), stride=(1, 1))\n",
       "          (act): SiLU(inplace=True)\n",
       "        )\n",
       "        (cv2): Conv(\n",
       "          (conv): Conv2d(64, 32, kernel_size=(1, 1), stride=(1, 1))\n",
       "          (act): SiLU(inplace=True)\n",
       "        )\n",
       "        (cv3): Conv(\n",
       "          (conv): Conv2d(64, 64, kernel_size=(1, 1), stride=(1, 1))\n",
       "          (act): SiLU(inplace=True)\n",
       "        )\n",
       "        (m): Sequential(\n",
       "          (0): Bottleneck(\n",
       "            (cv1): Conv(\n",
       "              (conv): Conv2d(32, 32, kernel_size=(1, 1), stride=(1, 1))\n",
       "              (act): SiLU(inplace=True)\n",
       "            )\n",
       "            (cv2): Conv(\n",
       "              (conv): Conv2d(32, 32, kernel_size=(3, 3), stride=(1, 1), padding=(1, 1))\n",
       "              (act): SiLU(inplace=True)\n",
       "            )\n",
       "          )\n",
       "        )\n",
       "      )\n",
       "      (3): Conv(\n",
       "        (conv): Conv2d(64, 128, kernel_size=(3, 3), stride=(2, 2), padding=(1, 1))\n",
       "        (act): SiLU(inplace=True)\n",
       "      )\n",
       "      (4): C3(\n",
       "        (cv1): Conv(\n",
       "          (conv): Conv2d(128, 64, kernel_size=(1, 1), stride=(1, 1))\n",
       "          (act): SiLU(inplace=True)\n",
       "        )\n",
       "        (cv2): Conv(\n",
       "          (conv): Conv2d(128, 64, kernel_size=(1, 1), stride=(1, 1))\n",
       "          (act): SiLU(inplace=True)\n",
       "        )\n",
       "        (cv3): Conv(\n",
       "          (conv): Conv2d(128, 128, kernel_size=(1, 1), stride=(1, 1))\n",
       "          (act): SiLU(inplace=True)\n",
       "        )\n",
       "        (m): Sequential(\n",
       "          (0): Bottleneck(\n",
       "            (cv1): Conv(\n",
       "              (conv): Conv2d(64, 64, kernel_size=(1, 1), stride=(1, 1))\n",
       "              (act): SiLU(inplace=True)\n",
       "            )\n",
       "            (cv2): Conv(\n",
       "              (conv): Conv2d(64, 64, kernel_size=(3, 3), stride=(1, 1), padding=(1, 1))\n",
       "              (act): SiLU(inplace=True)\n",
       "            )\n",
       "          )\n",
       "          (1): Bottleneck(\n",
       "            (cv1): Conv(\n",
       "              (conv): Conv2d(64, 64, kernel_size=(1, 1), stride=(1, 1))\n",
       "              (act): SiLU(inplace=True)\n",
       "            )\n",
       "            (cv2): Conv(\n",
       "              (conv): Conv2d(64, 64, kernel_size=(3, 3), stride=(1, 1), padding=(1, 1))\n",
       "              (act): SiLU(inplace=True)\n",
       "            )\n",
       "          )\n",
       "        )\n",
       "      )\n",
       "      (5): Conv(\n",
       "        (conv): Conv2d(128, 256, kernel_size=(3, 3), stride=(2, 2), padding=(1, 1))\n",
       "        (act): SiLU(inplace=True)\n",
       "      )\n",
       "      (6): C3(\n",
       "        (cv1): Conv(\n",
       "          (conv): Conv2d(256, 128, kernel_size=(1, 1), stride=(1, 1))\n",
       "          (act): SiLU(inplace=True)\n",
       "        )\n",
       "        (cv2): Conv(\n",
       "          (conv): Conv2d(256, 128, kernel_size=(1, 1), stride=(1, 1))\n",
       "          (act): SiLU(inplace=True)\n",
       "        )\n",
       "        (cv3): Conv(\n",
       "          (conv): Conv2d(256, 256, kernel_size=(1, 1), stride=(1, 1))\n",
       "          (act): SiLU(inplace=True)\n",
       "        )\n",
       "        (m): Sequential(\n",
       "          (0): Bottleneck(\n",
       "            (cv1): Conv(\n",
       "              (conv): Conv2d(128, 128, kernel_size=(1, 1), stride=(1, 1))\n",
       "              (act): SiLU(inplace=True)\n",
       "            )\n",
       "            (cv2): Conv(\n",
       "              (conv): Conv2d(128, 128, kernel_size=(3, 3), stride=(1, 1), padding=(1, 1))\n",
       "              (act): SiLU(inplace=True)\n",
       "            )\n",
       "          )\n",
       "          (1): Bottleneck(\n",
       "            (cv1): Conv(\n",
       "              (conv): Conv2d(128, 128, kernel_size=(1, 1), stride=(1, 1))\n",
       "              (act): SiLU(inplace=True)\n",
       "            )\n",
       "            (cv2): Conv(\n",
       "              (conv): Conv2d(128, 128, kernel_size=(3, 3), stride=(1, 1), padding=(1, 1))\n",
       "              (act): SiLU(inplace=True)\n",
       "            )\n",
       "          )\n",
       "          (2): Bottleneck(\n",
       "            (cv1): Conv(\n",
       "              (conv): Conv2d(128, 128, kernel_size=(1, 1), stride=(1, 1))\n",
       "              (act): SiLU(inplace=True)\n",
       "            )\n",
       "            (cv2): Conv(\n",
       "              (conv): Conv2d(128, 128, kernel_size=(3, 3), stride=(1, 1), padding=(1, 1))\n",
       "              (act): SiLU(inplace=True)\n",
       "            )\n",
       "          )\n",
       "        )\n",
       "      )\n",
       "      (7): Conv(\n",
       "        (conv): Conv2d(256, 512, kernel_size=(3, 3), stride=(2, 2), padding=(1, 1))\n",
       "        (act): SiLU(inplace=True)\n",
       "      )\n",
       "      (8): C3(\n",
       "        (cv1): Conv(\n",
       "          (conv): Conv2d(512, 256, kernel_size=(1, 1), stride=(1, 1))\n",
       "          (act): SiLU(inplace=True)\n",
       "        )\n",
       "        (cv2): Conv(\n",
       "          (conv): Conv2d(512, 256, kernel_size=(1, 1), stride=(1, 1))\n",
       "          (act): SiLU(inplace=True)\n",
       "        )\n",
       "        (cv3): Conv(\n",
       "          (conv): Conv2d(512, 512, kernel_size=(1, 1), stride=(1, 1))\n",
       "          (act): SiLU(inplace=True)\n",
       "        )\n",
       "        (m): Sequential(\n",
       "          (0): Bottleneck(\n",
       "            (cv1): Conv(\n",
       "              (conv): Conv2d(256, 256, kernel_size=(1, 1), stride=(1, 1))\n",
       "              (act): SiLU(inplace=True)\n",
       "            )\n",
       "            (cv2): Conv(\n",
       "              (conv): Conv2d(256, 256, kernel_size=(3, 3), stride=(1, 1), padding=(1, 1))\n",
       "              (act): SiLU(inplace=True)\n",
       "            )\n",
       "          )\n",
       "        )\n",
       "      )\n",
       "      (9): SPPF(\n",
       "        (cv1): Conv(\n",
       "          (conv): Conv2d(512, 256, kernel_size=(1, 1), stride=(1, 1))\n",
       "          (act): SiLU(inplace=True)\n",
       "        )\n",
       "        (cv2): Conv(\n",
       "          (conv): Conv2d(1024, 512, kernel_size=(1, 1), stride=(1, 1))\n",
       "          (act): SiLU(inplace=True)\n",
       "        )\n",
       "        (m): MaxPool2d(kernel_size=5, stride=1, padding=2, dilation=1, ceil_mode=False)\n",
       "      )\n",
       "      (10): Conv(\n",
       "        (conv): Conv2d(512, 256, kernel_size=(1, 1), stride=(1, 1))\n",
       "        (act): SiLU(inplace=True)\n",
       "      )\n",
       "      (11): Upsample(scale_factor=2.0, mode=nearest)\n",
       "      (12): Concat()\n",
       "      (13): C3(\n",
       "        (cv1): Conv(\n",
       "          (conv): Conv2d(512, 128, kernel_size=(1, 1), stride=(1, 1))\n",
       "          (act): SiLU(inplace=True)\n",
       "        )\n",
       "        (cv2): Conv(\n",
       "          (conv): Conv2d(512, 128, kernel_size=(1, 1), stride=(1, 1))\n",
       "          (act): SiLU(inplace=True)\n",
       "        )\n",
       "        (cv3): Conv(\n",
       "          (conv): Conv2d(256, 256, kernel_size=(1, 1), stride=(1, 1))\n",
       "          (act): SiLU(inplace=True)\n",
       "        )\n",
       "        (m): Sequential(\n",
       "          (0): Bottleneck(\n",
       "            (cv1): Conv(\n",
       "              (conv): Conv2d(128, 128, kernel_size=(1, 1), stride=(1, 1))\n",
       "              (act): SiLU(inplace=True)\n",
       "            )\n",
       "            (cv2): Conv(\n",
       "              (conv): Conv2d(128, 128, kernel_size=(3, 3), stride=(1, 1), padding=(1, 1))\n",
       "              (act): SiLU(inplace=True)\n",
       "            )\n",
       "          )\n",
       "        )\n",
       "      )\n",
       "      (14): Conv(\n",
       "        (conv): Conv2d(256, 128, kernel_size=(1, 1), stride=(1, 1))\n",
       "        (act): SiLU(inplace=True)\n",
       "      )\n",
       "      (15): Upsample(scale_factor=2.0, mode=nearest)\n",
       "      (16): Concat()\n",
       "      (17): C3(\n",
       "        (cv1): Conv(\n",
       "          (conv): Conv2d(256, 64, kernel_size=(1, 1), stride=(1, 1))\n",
       "          (act): SiLU(inplace=True)\n",
       "        )\n",
       "        (cv2): Conv(\n",
       "          (conv): Conv2d(256, 64, kernel_size=(1, 1), stride=(1, 1))\n",
       "          (act): SiLU(inplace=True)\n",
       "        )\n",
       "        (cv3): Conv(\n",
       "          (conv): Conv2d(128, 128, kernel_size=(1, 1), stride=(1, 1))\n",
       "          (act): SiLU(inplace=True)\n",
       "        )\n",
       "        (m): Sequential(\n",
       "          (0): Bottleneck(\n",
       "            (cv1): Conv(\n",
       "              (conv): Conv2d(64, 64, kernel_size=(1, 1), stride=(1, 1))\n",
       "              (act): SiLU(inplace=True)\n",
       "            )\n",
       "            (cv2): Conv(\n",
       "              (conv): Conv2d(64, 64, kernel_size=(3, 3), stride=(1, 1), padding=(1, 1))\n",
       "              (act): SiLU(inplace=True)\n",
       "            )\n",
       "          )\n",
       "        )\n",
       "      )\n",
       "      (18): Conv(\n",
       "        (conv): Conv2d(128, 128, kernel_size=(3, 3), stride=(2, 2), padding=(1, 1))\n",
       "        (act): SiLU(inplace=True)\n",
       "      )\n",
       "      (19): Concat()\n",
       "      (20): C3(\n",
       "        (cv1): Conv(\n",
       "          (conv): Conv2d(256, 128, kernel_size=(1, 1), stride=(1, 1))\n",
       "          (act): SiLU(inplace=True)\n",
       "        )\n",
       "        (cv2): Conv(\n",
       "          (conv): Conv2d(256, 128, kernel_size=(1, 1), stride=(1, 1))\n",
       "          (act): SiLU(inplace=True)\n",
       "        )\n",
       "        (cv3): Conv(\n",
       "          (conv): Conv2d(256, 256, kernel_size=(1, 1), stride=(1, 1))\n",
       "          (act): SiLU(inplace=True)\n",
       "        )\n",
       "        (m): Sequential(\n",
       "          (0): Bottleneck(\n",
       "            (cv1): Conv(\n",
       "              (conv): Conv2d(128, 128, kernel_size=(1, 1), stride=(1, 1))\n",
       "              (act): SiLU(inplace=True)\n",
       "            )\n",
       "            (cv2): Conv(\n",
       "              (conv): Conv2d(128, 128, kernel_size=(3, 3), stride=(1, 1), padding=(1, 1))\n",
       "              (act): SiLU(inplace=True)\n",
       "            )\n",
       "          )\n",
       "        )\n",
       "      )\n",
       "      (21): Conv(\n",
       "        (conv): Conv2d(256, 256, kernel_size=(3, 3), stride=(2, 2), padding=(1, 1))\n",
       "        (act): SiLU(inplace=True)\n",
       "      )\n",
       "      (22): Concat()\n",
       "      (23): C3(\n",
       "        (cv1): Conv(\n",
       "          (conv): Conv2d(512, 256, kernel_size=(1, 1), stride=(1, 1))\n",
       "          (act): SiLU(inplace=True)\n",
       "        )\n",
       "        (cv2): Conv(\n",
       "          (conv): Conv2d(512, 256, kernel_size=(1, 1), stride=(1, 1))\n",
       "          (act): SiLU(inplace=True)\n",
       "        )\n",
       "        (cv3): Conv(\n",
       "          (conv): Conv2d(512, 512, kernel_size=(1, 1), stride=(1, 1))\n",
       "          (act): SiLU(inplace=True)\n",
       "        )\n",
       "        (m): Sequential(\n",
       "          (0): Bottleneck(\n",
       "            (cv1): Conv(\n",
       "              (conv): Conv2d(256, 256, kernel_size=(1, 1), stride=(1, 1))\n",
       "              (act): SiLU(inplace=True)\n",
       "            )\n",
       "            (cv2): Conv(\n",
       "              (conv): Conv2d(256, 256, kernel_size=(3, 3), stride=(1, 1), padding=(1, 1))\n",
       "              (act): SiLU(inplace=True)\n",
       "            )\n",
       "          )\n",
       "        )\n",
       "      )\n",
       "      (24): Detect(\n",
       "        (m): ModuleList(\n",
       "          (0): Conv2d(128, 255, kernel_size=(1, 1), stride=(1, 1))\n",
       "          (1): Conv2d(256, 255, kernel_size=(1, 1), stride=(1, 1))\n",
       "          (2): Conv2d(512, 255, kernel_size=(1, 1), stride=(1, 1))\n",
       "        )\n",
       "      )\n",
       "    )\n",
       "  )\n",
       ")"
      ]
     },
     "execution_count": 10,
     "metadata": {},
     "output_type": "execute_result"
    }
   ],
   "source": [
    "model"
   ]
  },
  {
   "cell_type": "code",
   "execution_count": 11,
   "id": "32de18b6",
   "metadata": {},
   "outputs": [],
   "source": [
    "device = torch.device(\"cuda\" if torch.cuda.is_available() else \"cpu\")"
   ]
  },
  {
   "cell_type": "code",
   "execution_count": 12,
   "id": "1918c1c9",
   "metadata": {
    "scrolled": false
   },
   "outputs": [
    {
     "data": {
      "text/plain": [
       "device(type='cuda')"
      ]
     },
     "execution_count": 12,
     "metadata": {},
     "output_type": "execute_result"
    }
   ],
   "source": [
    "device"
   ]
  },
  {
   "cell_type": "markdown",
   "id": "d9e883bb",
   "metadata": {},
   "source": [
    "# 2.Make Detections with Images"
   ]
  },
  {
   "cell_type": "code",
   "execution_count": 16,
   "id": "21b909ac",
   "metadata": {},
   "outputs": [],
   "source": [
    "img = \"D:\\Programming\\Computer_Vision\\Yolo\\images_and_videos\\images\\Dog_and_Me.jpg\""
   ]
  },
  {
   "cell_type": "code",
   "execution_count": 17,
   "id": "4efbc7fa",
   "metadata": {},
   "outputs": [
    {
     "name": "stderr",
     "output_type": "stream",
     "text": [
      "image 1/1: 1080x1080 (no detections)\n",
      "Speed: 58.8ms pre-process, 53.9ms inference, 0.0ms NMS per image at shape (1, 3, 640, 640)\n"
     ]
    }
   ],
   "source": [
    "results = model(img)\n",
    "results.print()"
   ]
  },
  {
   "cell_type": "code",
   "execution_count": 18,
   "id": "9a3d80f9",
   "metadata": {},
   "outputs": [
    {
     "data": {
      "image/png": "[encoded data removed]",
      "text/plain": [
       "<Figure size 432x288 with 1 Axes>"
      ]
     },
     "metadata": {
      "needs_background": "light"
     },
     "output_type": "display_data"
    }
   ],
   "source": [
    "%matplotlib inline \n",
    "plt.imshow(np.squeeze(results.render())) # for minuns 1 dimension (left one)\n",
    "plt.show()"
   ]
  },
  {
   "cell_type": "code",
   "execution_count": 19,
   "id": "27d01b35",
   "metadata": {
    "scrolled": true
   },
   "outputs": [
    {
     "data": {
      "text/plain": [
       "[array([[[232, 232, 232],\n",
       "         [232, 232, 232],\n",
       "         [232, 232, 232],\n",
       "         ...,\n",
       "         [250, 250, 248],\n",
       "         [250, 250, 248],\n",
       "         [250, 250, 248]],\n",
       " \n",
       "        [[232, 232, 232],\n",
       "         [232, 232, 232],\n",
       "         [232, 232, 232],\n",
       "         ...,\n",
       "         [250, 250, 248],\n",
       "         [250, 250, 248],\n",
       "         [250, 250, 248]],\n",
       " \n",
       "        [[232, 232, 232],\n",
       "         [232, 232, 232],\n",
       "         [232, 232, 232],\n",
       "         ...,\n",
       "         [249, 249, 247],\n",
       "         [250, 250, 248],\n",
       "         [250, 250, 248]],\n",
       " \n",
       "        ...,\n",
       " \n",
       "        [[103,  87,  53],\n",
       "         [104,  88,  54],\n",
       "         [100,  84,  50],\n",
       "         ...,\n",
       "         [ 92,  75,  45],\n",
       "         [ 91,  74,  44],\n",
       "         [ 82,  65,  35]],\n",
       " \n",
       "        [[109,  93,  59],\n",
       "         [106,  90,  56],\n",
       "         [ 99,  83,  49],\n",
       "         ...,\n",
       "         [ 90,  73,  43],\n",
       "         [ 94,  77,  47],\n",
       "         [ 90,  73,  43]],\n",
       " \n",
       "        [[114,  98,  64],\n",
       "         [109,  93,  59],\n",
       "         [100,  84,  50],\n",
       "         ...,\n",
       "         [ 89,  72,  42],\n",
       "         [ 97,  80,  50],\n",
       "         [ 97,  80,  50]]], dtype=uint8)]"
      ]
     },
     "execution_count": 19,
     "metadata": {},
     "output_type": "execute_result"
    }
   ],
   "source": [
    "results.render()"
   ]
  },
  {
   "cell_type": "markdown",
   "id": "3c2ca25e",
   "metadata": {},
   "source": [
    "# 3. Real Time Detections"
   ]
  },
  {
   "cell_type": "code",
   "execution_count": 20,
   "id": "a18bf6a1",
   "metadata": {},
   "outputs": [],
   "source": [
    "cap = cv2.VideoCapture(\"D:\\Programming\\Computer_Vision\\Yolo\\images_and_videos\\Videos\\kaikai_kitan_piano.mp4\") # or cap = cv2.VideoCapture(0)\n",
    "while cap.isOpened():\n",
    "    ret, frame = cap.read()\n",
    "    \n",
    "    # Make detections \n",
    "    results = model(frame)\n",
    "    \n",
    "    cv2.imshow('YOLO', np.squeeze(results.render()))\n",
    "    \n",
    "    if cv2.waitKey(10) & 0xFF == ord('q'):\n",
    "        break\n",
    "cap.release()\n",
    "cv2.destroyAllWindows()"
   ]
  },
  {
   "cell_type": "code",
   "execution_count": null,
   "id": "96b86459",
   "metadata": {},
   "outputs": [],
   "source": []
  },
  {
   "cell_type": "code",
   "execution_count": 7,
   "id": "b0e94bdc",
   "metadata": {},
   "outputs": [],
   "source": [
    "import torch\n",
    "from matplotlib import pyplot as plt\n",
    "import numpy as np\n",
    "import cv2"
   ]
  },
  {
   "cell_type": "code",
   "execution_count": 8,
   "id": "966f35b8",
   "metadata": {},
   "outputs": [],
   "source": [
    "\n",
    "import uuid   # Unique identifier\n",
    "import os\n",
    "import time"
   ]
  },
  {
   "cell_type": "code",
   "execution_count": 21,
   "id": "d70e67ab",
   "metadata": {},
   "outputs": [],
   "source": [
    "IMAGES_PATH = \"D:\\Programming\\Computer_Vision\\Yolo\\yolov5\\data\\images\" #/data/images\n",
    "labels = ['awake', 'drowsy']\n",
    "number_imgs = 20"
   ]
  },
  {
   "cell_type": "code",
   "execution_count": 17,
   "id": "f10b42ae",
   "metadata": {},
   "outputs": [],
   "source": [
    "!cd D:\\Programming\\Computer_Vision\\Yolo\\yolov5"
   ]
  },
  {
   "cell_type": "code",
   "execution_count": 22,
   "id": "95232411",
   "metadata": {},
   "outputs": [
    {
     "name": "stdout",
     "output_type": "stream",
     "text": [
      "Collecting images for awake\n",
      "Collecting images for awake, image number 0\n",
      "Collecting images for awake, image number 1\n",
      "Collecting images for awake, image number 2\n",
      "Collecting images for awake, image number 3\n",
      "Collecting images for awake, image number 4\n",
      "Collecting images for awake, image number 5\n",
      "Collecting images for awake, image number 6\n",
      "Collecting images for awake, image number 7\n",
      "Collecting images for awake, image number 8\n",
      "Collecting images for awake, image number 9\n",
      "Collecting images for awake, image number 10\n",
      "Collecting images for awake, image number 11\n",
      "Collecting images for awake, image number 12\n",
      "Collecting images for awake, image number 13\n",
      "Collecting images for awake, image number 14\n",
      "Collecting images for awake, image number 15\n",
      "Collecting images for awake, image number 16\n",
      "Collecting images for awake, image number 17\n",
      "Collecting images for awake, image number 18\n",
      "Collecting images for awake, image number 19\n",
      "Collecting images for drowsy\n",
      "Collecting images for drowsy, image number 0\n",
      "Collecting images for drowsy, image number 1\n",
      "Collecting images for drowsy, image number 2\n",
      "Collecting images for drowsy, image number 3\n",
      "Collecting images for drowsy, image number 4\n",
      "Collecting images for drowsy, image number 5\n",
      "Collecting images for drowsy, image number 6\n",
      "Collecting images for drowsy, image number 7\n",
      "Collecting images for drowsy, image number 8\n",
      "Collecting images for drowsy, image number 9\n",
      "Collecting images for drowsy, image number 10\n",
      "Collecting images for drowsy, image number 11\n",
      "Collecting images for drowsy, image number 12\n",
      "Collecting images for drowsy, image number 13\n",
      "Collecting images for drowsy, image number 14\n",
      "Collecting images for drowsy, image number 15\n",
      "Collecting images for drowsy, image number 16\n",
      "Collecting images for drowsy, image number 17\n",
      "Collecting images for drowsy, image number 18\n",
      "Collecting images for drowsy, image number 19\n"
     ]
    }
   ],
   "source": [
    "cap = cv2.VideoCapture(0)\n",
    "# Loop through labels\n",
    "for label in labels:\n",
    "    print('Collecting images for {}'.format(label))\n",
    "    time.sleep(5)\n",
    "    \n",
    "    # Loop through image range\n",
    "    for img_num in range(number_imgs):\n",
    "        print('Collecting images for {}, image number {}'.format(label, img_num))\n",
    "        \n",
    "        # Webcam feed\n",
    "        ret, frame = cap.read()\n",
    "        \n",
    "        # Naming out image path\n",
    "        imgname = os.path.join(IMAGES_PATH, label+'.'+str(uuid.uuid1())+'.jpg')\n",
    "        \n",
    "        # Writes out image to file \n",
    "        cv2.imwrite(imgname, frame)\n",
    "        \n",
    "        # Render to the screen\n",
    "        cv2.imshow('Image Collection', frame)\n",
    "        \n",
    "        # 2 second delay between captures\n",
    "        time.sleep(2)\n",
    "        \n",
    "        if cv2.waitKey(10) & 0xFF == ord('q'):\n",
    "            break\n",
    "cap.release()\n",
    "cv2.destroyAllWindows()"
   ]
  },
  {
   "cell_type": "code",
   "execution_count": 23,
   "id": "7fbc623b",
   "metadata": {},
   "outputs": [
    {
     "name": "stdout",
     "output_type": "stream",
     "text": [
      "D:\\Programming\\Computer_Vision\\Yolo\\yolov5\\data\\images\\awake.b4dc8226-3c34-11ec-9090-94e6f7a1c25e.jpg\n"
     ]
    }
   ],
   "source": [
    "print(os.path.join(IMAGES_PATH, labels[0]+'.'+str(uuid.uuid1())+'.jpg'))"
   ]
  },
  {
   "cell_type": "code",
   "execution_count": 24,
   "id": "f9303ed3",
   "metadata": {},
   "outputs": [
    {
     "name": "stdout",
     "output_type": "stream",
     "text": [
      "Collecting images for awake\n",
      "Collecting images for awake, image number 0\n",
      "D:\\Programming\\Computer_Vision\\Yolo\\yolov5\\data\\images\\awake.b5b09dfc-3c34-11ec-89dc-94e6f7a1c25e.jpg\n",
      "Collecting images for awake, image number 1\n",
      "D:\\Programming\\Computer_Vision\\Yolo\\yolov5\\data\\images\\awake.b5b09dfd-3c34-11ec-a8cd-94e6f7a1c25e.jpg\n",
      "Collecting images for awake, image number 2\n",
      "D:\\Programming\\Computer_Vision\\Yolo\\yolov5\\data\\images\\awake.b5b09dfe-3c34-11ec-8fce-94e6f7a1c25e.jpg\n",
      "Collecting images for awake, image number 3\n",
      "D:\\Programming\\Computer_Vision\\Yolo\\yolov5\\data\\images\\awake.b5b09dff-3c34-11ec-8b26-94e6f7a1c25e.jpg\n",
      "Collecting images for awake, image number 4\n",
      "D:\\Programming\\Computer_Vision\\Yolo\\yolov5\\data\\images\\awake.b5b09e00-3c34-11ec-b18b-94e6f7a1c25e.jpg\n",
      "Collecting images for awake, image number 5\n",
      "D:\\Programming\\Computer_Vision\\Yolo\\yolov5\\data\\images\\awake.b5b09e01-3c34-11ec-b097-94e6f7a1c25e.jpg\n",
      "Collecting images for awake, image number 6\n",
      "D:\\Programming\\Computer_Vision\\Yolo\\yolov5\\data\\images\\awake.b5b09e02-3c34-11ec-9eab-94e6f7a1c25e.jpg\n",
      "Collecting images for awake, image number 7\n",
      "D:\\Programming\\Computer_Vision\\Yolo\\yolov5\\data\\images\\awake.b5b09e03-3c34-11ec-bd74-94e6f7a1c25e.jpg\n",
      "Collecting images for awake, image number 8\n",
      "D:\\Programming\\Computer_Vision\\Yolo\\yolov5\\data\\images\\awake.b5b0c4d9-3c34-11ec-93b0-94e6f7a1c25e.jpg\n",
      "Collecting images for awake, image number 9\n",
      "D:\\Programming\\Computer_Vision\\Yolo\\yolov5\\data\\images\\awake.b5b112c5-3c34-11ec-9cbe-94e6f7a1c25e.jpg\n",
      "Collecting images for awake, image number 10\n",
      "D:\\Programming\\Computer_Vision\\Yolo\\yolov5\\data\\images\\awake.b5b112c6-3c34-11ec-9d5d-94e6f7a1c25e.jpg\n",
      "Collecting images for awake, image number 11\n",
      "D:\\Programming\\Computer_Vision\\Yolo\\yolov5\\data\\images\\awake.b5b112c7-3c34-11ec-8980-94e6f7a1c25e.jpg\n",
      "Collecting images for awake, image number 12\n",
      "D:\\Programming\\Computer_Vision\\Yolo\\yolov5\\data\\images\\awake.b5b112c8-3c34-11ec-b612-94e6f7a1c25e.jpg\n",
      "Collecting images for awake, image number 13\n",
      "D:\\Programming\\Computer_Vision\\Yolo\\yolov5\\data\\images\\awake.b5b112c9-3c34-11ec-b7e9-94e6f7a1c25e.jpg\n",
      "Collecting images for awake, image number 14\n",
      "D:\\Programming\\Computer_Vision\\Yolo\\yolov5\\data\\images\\awake.b5b112ca-3c34-11ec-9f89-94e6f7a1c25e.jpg\n",
      "Collecting images for awake, image number 15\n",
      "D:\\Programming\\Computer_Vision\\Yolo\\yolov5\\data\\images\\awake.b5b139d8-3c34-11ec-a594-94e6f7a1c25e.jpg\n",
      "Collecting images for awake, image number 16\n",
      "D:\\Programming\\Computer_Vision\\Yolo\\yolov5\\data\\images\\awake.b5b139d9-3c34-11ec-b57e-94e6f7a1c25e.jpg\n",
      "Collecting images for awake, image number 17\n",
      "D:\\Programming\\Computer_Vision\\Yolo\\yolov5\\data\\images\\awake.b5b139da-3c34-11ec-ba0e-94e6f7a1c25e.jpg\n",
      "Collecting images for awake, image number 18\n",
      "D:\\Programming\\Computer_Vision\\Yolo\\yolov5\\data\\images\\awake.b5b139db-3c34-11ec-b346-94e6f7a1c25e.jpg\n",
      "Collecting images for awake, image number 19\n",
      "D:\\Programming\\Computer_Vision\\Yolo\\yolov5\\data\\images\\awake.b5b139dc-3c34-11ec-bb6e-94e6f7a1c25e.jpg\n",
      "Collecting images for drowsy\n",
      "Collecting images for drowsy, image number 0\n",
      "D:\\Programming\\Computer_Vision\\Yolo\\yolov5\\data\\images\\drowsy.b5b139dd-3c34-11ec-bc45-94e6f7a1c25e.jpg\n",
      "Collecting images for drowsy, image number 1\n",
      "D:\\Programming\\Computer_Vision\\Yolo\\yolov5\\data\\images\\drowsy.b5b139de-3c34-11ec-ae89-94e6f7a1c25e.jpg\n",
      "Collecting images for drowsy, image number 2\n",
      "D:\\Programming\\Computer_Vision\\Yolo\\yolov5\\data\\images\\drowsy.b5b139df-3c34-11ec-9e0e-94e6f7a1c25e.jpg\n",
      "Collecting images for drowsy, image number 3\n",
      "D:\\Programming\\Computer_Vision\\Yolo\\yolov5\\data\\images\\drowsy.b5b139e0-3c34-11ec-a908-94e6f7a1c25e.jpg\n",
      "Collecting images for drowsy, image number 4\n",
      "D:\\Programming\\Computer_Vision\\Yolo\\yolov5\\data\\images\\drowsy.b5b139e1-3c34-11ec-83a3-94e6f7a1c25e.jpg\n",
      "Collecting images for drowsy, image number 5\n",
      "D:\\Programming\\Computer_Vision\\Yolo\\yolov5\\data\\images\\drowsy.b5b139e2-3c34-11ec-83aa-94e6f7a1c25e.jpg\n",
      "Collecting images for drowsy, image number 6\n",
      "D:\\Programming\\Computer_Vision\\Yolo\\yolov5\\data\\images\\drowsy.b5b139e3-3c34-11ec-b519-94e6f7a1c25e.jpg\n",
      "Collecting images for drowsy, image number 7\n",
      "D:\\Programming\\Computer_Vision\\Yolo\\yolov5\\data\\images\\drowsy.b5b139e4-3c34-11ec-a031-94e6f7a1c25e.jpg\n",
      "Collecting images for drowsy, image number 8\n",
      "D:\\Programming\\Computer_Vision\\Yolo\\yolov5\\data\\images\\drowsy.b5b187aa-3c34-11ec-ace0-94e6f7a1c25e.jpg\n",
      "Collecting images for drowsy, image number 9\n",
      "D:\\Programming\\Computer_Vision\\Yolo\\yolov5\\data\\images\\drowsy.b5b187ab-3c34-11ec-bb4e-94e6f7a1c25e.jpg\n",
      "Collecting images for drowsy, image number 10\n",
      "D:\\Programming\\Computer_Vision\\Yolo\\yolov5\\data\\images\\drowsy.b5b187ac-3c34-11ec-a91b-94e6f7a1c25e.jpg\n",
      "Collecting images for drowsy, image number 11\n",
      "D:\\Programming\\Computer_Vision\\Yolo\\yolov5\\data\\images\\drowsy.b5b187ad-3c34-11ec-ace5-94e6f7a1c25e.jpg\n",
      "Collecting images for drowsy, image number 12\n",
      "D:\\Programming\\Computer_Vision\\Yolo\\yolov5\\data\\images\\drowsy.b5b187ae-3c34-11ec-951e-94e6f7a1c25e.jpg\n",
      "Collecting images for drowsy, image number 13\n",
      "D:\\Programming\\Computer_Vision\\Yolo\\yolov5\\data\\images\\drowsy.b5b187af-3c34-11ec-81da-94e6f7a1c25e.jpg\n",
      "Collecting images for drowsy, image number 14\n",
      "D:\\Programming\\Computer_Vision\\Yolo\\yolov5\\data\\images\\drowsy.b5b187b0-3c34-11ec-a195-94e6f7a1c25e.jpg\n",
      "Collecting images for drowsy, image number 15\n",
      "D:\\Programming\\Computer_Vision\\Yolo\\yolov5\\data\\images\\drowsy.b5b187b1-3c34-11ec-bee6-94e6f7a1c25e.jpg\n",
      "Collecting images for drowsy, image number 16\n",
      "D:\\Programming\\Computer_Vision\\Yolo\\yolov5\\data\\images\\drowsy.b5b1ae90-3c34-11ec-a7d2-94e6f7a1c25e.jpg\n",
      "Collecting images for drowsy, image number 17\n",
      "D:\\Programming\\Computer_Vision\\Yolo\\yolov5\\data\\images\\drowsy.b5b1ae91-3c34-11ec-bb27-94e6f7a1c25e.jpg\n",
      "Collecting images for drowsy, image number 18\n",
      "D:\\Programming\\Computer_Vision\\Yolo\\yolov5\\data\\images\\drowsy.b5b1ae92-3c34-11ec-8e4b-94e6f7a1c25e.jpg\n",
      "Collecting images for drowsy, image number 19\n",
      "D:\\Programming\\Computer_Vision\\Yolo\\yolov5\\data\\images\\drowsy.b5b1ae93-3c34-11ec-ab17-94e6f7a1c25e.jpg\n"
     ]
    }
   ],
   "source": [
    "for label in labels:\n",
    "    print('Collecting images for {}'.format(label))\n",
    "    for img_num in range(number_imgs):\n",
    "        print('Collecting images for {}, image number {}'.format(label, img_num))\n",
    "        imgname = os.path.join(IMAGES_PATH, label+'.'+str(uuid.uuid1())+'.jpg')\n",
    "        print(imgname)"
   ]
  },
  {
   "cell_type": "code",
   "execution_count": 14,
   "id": "0645586a",
   "metadata": {},
   "outputs": [],
   "source": [
    "img = os.path.join('data', 'images', 'drowsy.11aa6510-3c33-11ec-84a3-94e6f7a1c25e.jpg')"
   ]
  },
  {
   "cell_type": "code",
   "execution_count": 15,
   "id": "3f9aea7a",
   "metadata": {},
   "outputs": [
    {
     "ename": "NameError",
     "evalue": "name 'model' is not defined",
     "output_type": "error",
     "traceback": [
      "\u001b[1;31m---------------------------------------------------------------------------\u001b[0m",
      "\u001b[1;31mNameError\u001b[0m                                 Traceback (most recent call last)",
      "\u001b[1;32m<ipython-input-15-6adac0c86308>\u001b[0m in \u001b[0;36m<module>\u001b[1;34m\u001b[0m\n\u001b[1;32m----> 1\u001b[1;33m \u001b[0mresults\u001b[0m \u001b[1;33m=\u001b[0m \u001b[0mmodel\u001b[0m\u001b[1;33m(\u001b[0m\u001b[0mimg\u001b[0m\u001b[1;33m)\u001b[0m\u001b[1;33m\u001b[0m\u001b[1;33m\u001b[0m\u001b[0m\n\u001b[0m\u001b[0;32m      2\u001b[0m \u001b[0mresults\u001b[0m\u001b[1;33m.\u001b[0m\u001b[0mprint\u001b[0m\u001b[1;33m(\u001b[0m\u001b[1;33m)\u001b[0m\u001b[1;33m\u001b[0m\u001b[1;33m\u001b[0m\u001b[0m\n",
      "\u001b[1;31mNameError\u001b[0m: name 'model' is not defined"
     ]
    }
   ],
   "source": [
    "results = model(img)\n",
    "results.print()"
   ]
  },
  {
   "cell_type": "code",
   "execution_count": null,
   "id": "bc8506c7",
   "metadata": {},
   "outputs": [],
   "source": []
  }
 ],
 "metadata": {
  "kernelspec": {
   "display_name": "Python 3",
   "language": "python",
   "name": "python3"
  },
  "language_info": {
   "codemirror_mode": {
    "name": "ipython",
    "version": 3
   },
   "file_extension": ".py",
   "mimetype": "text/x-python",
   "name": "python",
   "nbconvert_exporter": "python",
   "pygments_lexer": "ipython3",
   "version": "3.8.8"
  }
 },
 "nbformat": 4,
 "nbformat_minor": 5
}
