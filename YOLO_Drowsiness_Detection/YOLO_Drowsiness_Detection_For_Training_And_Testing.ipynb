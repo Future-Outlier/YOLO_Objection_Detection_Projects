{
  "nbformat": 4,
  "nbformat_minor": 0,
  "metadata": {
    "colab": {
      "name": "Yolov5.ipynb",
      "private_outputs": true,
      "provenance": []
    },
    "kernelspec": {
      "name": "python3",
      "display_name": "Python 3"
    },
    "language_info": {
      "name": "python"
    },
    "accelerator": "GPU"
  },
  "cells": [
    {
      "cell_type": "code",
      "metadata": {
        "id": "-7z1udQZ3JFj"
      },
      "source": [
        "gpu_info = !nvidia-smi\n",
        "gpu_info = '\\n'.join(gpu_info)\n",
        "if gpu_info.find('failed') >= 0:\n",
        "  print('Select the Runtime > \"Change runtime type\" menu to enable a GPU accelerator, ')\n",
        "  print('and then re-execute this cell.')\n",
        "else:\n",
        "  print(gpu_info)"
      ],
      "execution_count": null,
      "outputs": []
    },
    {
      "cell_type": "code",
      "metadata": {
        "id": "o9jW3dsr3JH_"
      },
      "source": [
        "from google.colab import drive # Import a library named google.colab\n",
        "drive.mount('/content/drive', force_remount=True) # mount the content to the directory `/content/drive`\n"
      ],
      "execution_count": null,
      "outputs": []
    },
    {
      "cell_type": "code",
      "metadata": {
        "id": "Sld5ljgH5r7P"
      },
      "source": [
        "%cd /content/drive/MyDrive/YOLOv5_Practice"
      ],
      "execution_count": null,
      "outputs": []
    },
    {
      "cell_type": "code",
      "metadata": {
        "id": "M-JpGwN45r9R"
      },
      "source": [
        "!git clone https://github.com/ultralytics/yolov5"
      ],
      "execution_count": null,
      "outputs": []
    },
    {
      "cell_type": "code",
      "metadata": {
        "id": "TbdVyefJ5r_6"
      },
      "source": [
        "%cd yolov5\n",
        "!pip install -r requirements.txt"
      ],
      "execution_count": null,
      "outputs": []
    },
    {
      "cell_type": "code",
      "metadata": {
        "id": "GEFPLoZu6Akw"
      },
      "source": [
        "import torch\n",
        "from matplotlib import pyplot as plt\n",
        "import numpy as np\n",
        "import cv2"
      ],
      "execution_count": null,
      "outputs": []
    },
    {
      "cell_type": "code",
      "metadata": {
        "id": "2D4lbXni6Amu"
      },
      "source": [
        "model = torch.hub.load('ultralytics/yolov5', 'yolov5s')"
      ],
      "execution_count": null,
      "outputs": []
    },
    {
      "cell_type": "code",
      "metadata": {
        "id": "0hTsw9lw6Aoz"
      },
      "source": [
        "model"
      ],
      "execution_count": null,
      "outputs": []
    },
    {
      "cell_type": "code",
      "metadata": {
        "id": "fcuFfWfv6M4r"
      },
      "source": [
        "img = '/content/drive/MyDrive/YOLOv5_Practice/images_and_videos/images/Dog_and_Me.jpg'"
      ],
      "execution_count": null,
      "outputs": []
    },
    {
      "cell_type": "code",
      "metadata": {
        "id": "IDUHbwyZ6M68"
      },
      "source": [
        "results = model(img)\n",
        "results.print()"
      ],
      "execution_count": null,
      "outputs": []
    },
    {
      "cell_type": "code",
      "metadata": {
        "id": "HQcG1IWC6M9A"
      },
      "source": [
        "%matplotlib inline \n",
        "plt.imshow(np.squeeze(results.render()))\n",
        "plt.show()"
      ],
      "execution_count": null,
      "outputs": []
    },
    {
      "cell_type": "code",
      "metadata": {
        "id": "f1o7zvw26Xa3"
      },
      "source": [
        "results.render()"
      ],
      "execution_count": null,
      "outputs": []
    },
    {
      "cell_type": "markdown",
      "metadata": {
        "id": "Fl_OMwgp6t0c"
      },
      "source": [
        "# Real Time Detections "
      ]
    },
    {
      "cell_type": "code",
      "metadata": {
        "id": "OUozNwtB6XdL"
      },
      "source": [
        "# colab is not available to steam \n",
        "cap = cv2.VideoCapture(0)\n",
        "while cap.isOpened():\n",
        "    ret, frame = cap.read()\n",
        "    \n",
        "    # Make detections \n",
        "    results = model(frame)\n",
        "    \n",
        "    cv2.imshow('YOLO', np.squeeze(results.render()))\n",
        "    \n",
        "    if cv2.waitKey(10) & 0xFF == ord('q'):\n",
        "        break\n",
        "cap.release()\n",
        "cv2.destroyAllWindows()"
      ],
      "execution_count": null,
      "outputs": []
    },
    {
      "cell_type": "markdown",
      "metadata": {
        "id": "xLt6SIMW67DL"
      },
      "source": [
        "# Train from scratch"
      ]
    },
    {
      "cell_type": "code",
      "metadata": {
        "id": "LL6e_E4E6tTb"
      },
      "source": [
        "import uuid   # Unique identifier\n",
        "import os\n",
        "import time"
      ],
      "execution_count": null,
      "outputs": []
    },
    {
      "cell_type": "code",
      "metadata": {
        "id": "bw6H4trf6tVx"
      },
      "source": [
        "IMAGES_PATH = os.path.join('data', 'images') #/data/images\n",
        "labels = ['awake', 'drowsy']\n",
        "number_imgs = 20"
      ],
      "execution_count": null,
      "outputs": []
    },
    {
      "cell_type": "code",
      "metadata": {
        "id": "4pxmFys66Xfs"
      },
      "source": [
        "cap = cv2.VideoCapture(0)\n",
        "# Loop through labels\n",
        "for label in labels:\n",
        "    print('Collecting images for {}'.format(label))\n",
        "    time.sleep(5)\n",
        "    \n",
        "    # Loop through image range\n",
        "    for img_num in range(number_imgs):\n",
        "        print('Collecting images for {}, image number {}'.format(label, img_num))\n",
        "        \n",
        "        # Webcam feed\n",
        "        ret, frame = cap.read()\n",
        "        \n",
        "        # Naming out image path\n",
        "        imgname = os.path.join(IMAGES_PATH, label+'.'+str(uuid.uuid1())+'.jpg')\n",
        "        \n",
        "        # Writes out image to file \n",
        "        cv2.imwrite(imgname, frame)\n",
        "        \n",
        "        # Render to the screen\n",
        "        cv2.imshow('Image Collection', frame)\n",
        "        \n",
        "        # 2 second delay between captures\n",
        "        time.sleep(2)\n",
        "        \n",
        "        if cv2.waitKey(10) & 0xFF == ord('q'):\n",
        "            break\n",
        "cap.release()\n",
        "cv2.destroyAllWindows()"
      ],
      "execution_count": null,
      "outputs": []
    },
    {
      "cell_type": "code",
      "metadata": {
        "id": "I6MEMpqF7Hsj"
      },
      "source": [
        "print(os.path.join(IMAGES_PATH, labels[0]+'.'+str(uuid.uuid1())+'.jpg'))"
      ],
      "execution_count": null,
      "outputs": []
    },
    {
      "cell_type": "code",
      "metadata": {
        "id": "T2yhJgC57H1K"
      },
      "source": [
        "for label in labels:\n",
        "    print('Collecting images for {}'.format(label))\n",
        "    for img_num in range(number_imgs):\n",
        "        print('Collecting images for {}, image number {}'.format(label, img_num))\n",
        "        imgname = os.path.join(IMAGES_PATH, label+'.'+str(uuid.uuid1())+'.jpg')\n",
        "        print(imgname)\n"
      ],
      "execution_count": null,
      "outputs": []
    },
    {
      "cell_type": "code",
      "metadata": {
        "id": "T8x_zUsgAWMT"
      },
      "source": [
        "!git clone https://github.com/tzutalin/labelImg"
      ],
      "execution_count": null,
      "outputs": []
    },
    {
      "cell_type": "code",
      "metadata": {
        "id": "JN0gKHFSAWOj"
      },
      "source": [
        "!pip install pyqt5 lxml --upgrade"
      ],
      "execution_count": null,
      "outputs": []
    },
    {
      "cell_type": "code",
      "metadata": {
        "id": "CI-ZyiV8AWRE"
      },
      "source": [
        "%cd labelImg"
      ],
      "execution_count": null,
      "outputs": []
    },
    {
      "cell_type": "code",
      "metadata": {
        "id": "9e82VncWAWTX"
      },
      "source": [
        "!pyrcc5 -o libs/resources.py resources.qrc"
      ],
      "execution_count": null,
      "outputs": []
    },
    {
      "cell_type": "code",
      "metadata": {
        "id": "Sgd0JqX-A0zk"
      },
      "source": [
        "%cd ..\n",
        "%cd yolov5"
      ],
      "execution_count": null,
      "outputs": []
    },
    {
      "cell_type": "code",
      "metadata": {
        "id": "Rwp4mn7JH5om"
      },
      "source": [
        "!python train.py --img 320 --batch 16 --epochs 500 --data dataset.yml --weights yolov5s.pt --workers 2"
      ],
      "execution_count": null,
      "outputs": []
    },
    {
      "cell_type": "markdown",
      "metadata": {
        "id": "YzTKO-rMSzT3"
      },
      "source": [
        ""
      ]
    },
    {
      "cell_type": "code",
      "metadata": {
        "id": "fPDJxyItH5q2"
      },
      "source": [
        "# Load Custom Model"
      ],
      "execution_count": null,
      "outputs": []
    },
    {
      "cell_type": "code",
      "metadata": {
        "id": "ib6_p7QVVIez"
      },
      "source": [
        "model = torch.hub.load('ultralytics/yolov5', 'custom', path='/content/drive/MyDrive/YOLOv5_Practice/yolov5/runs/train/exp7/weights/best.pt', force_reload=True)\n"
      ],
      "execution_count": null,
      "outputs": []
    },
    {
      "cell_type": "code",
      "metadata": {
        "id": "k9tD3JYAH5ss"
      },
      "source": [
        "img_awake = \"/content/drive/MyDrive/YOLOv5_Practice/data/images/awake.7f6b1803-3c34-11ec-b24f-94e6f7a1c25e.jpg\"\n",
        "img_drowsy = \"/content/drive/MyDrive/YOLOv5_Practice/data/images/drowsy.92ad39fd-3c34-11ec-a5a3-94e6f7a1c25e.jpg\"\n"
      ],
      "execution_count": null,
      "outputs": []
    },
    {
      "cell_type": "code",
      "metadata": {
        "id": "GiPn_YXKUyzl"
      },
      "source": [
        "results_awake = model(img_awake)\n",
        "results_drowsy = model(img_drowsy)"
      ],
      "execution_count": null,
      "outputs": []
    },
    {
      "cell_type": "code",
      "metadata": {
        "id": "kmOGcg57U6xh"
      },
      "source": [
        "results_awake.print()\n",
        "results_drowsy.print()"
      ],
      "execution_count": null,
      "outputs": []
    },
    {
      "cell_type": "code",
      "metadata": {
        "id": "gBvmgGaaU8X1"
      },
      "source": [
        "%matplotlib inline \n",
        "plt.imshow(np.squeeze(results_awake.render()))\n",
        "plt.show()"
      ],
      "execution_count": null,
      "outputs": []
    },
    {
      "cell_type": "code",
      "metadata": {
        "id": "raFyEMSxU8Zz"
      },
      "source": [
        "%matplotlib inline \n",
        "plt.imshow(np.squeeze(results_drowsy.render()))\n",
        "plt.show()"
      ],
      "execution_count": null,
      "outputs": []
    }
  ]
}